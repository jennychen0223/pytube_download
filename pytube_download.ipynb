{
 "cells": [
  {
   "cell_type": "code",
   "execution_count": 7,
   "id": "ff103545",
   "metadata": {},
   "outputs": [
    {
     "name": "stdout",
     "output_type": "stream",
     "text": [
      "開始下載，請稍候\n",
      "影片下載完成\n"
     ]
    }
   ],
   "source": [
    "from pytube import YouTube\n",
    "\n",
    "yt = YouTube('https://www.youtube.com/watch?v=VZs4VYirzz4')\n",
    "\n",
    "print(\"開始下載，請稍候\")\n",
    "\n",
    "yt.streams.first().download()\n",
    "\n",
    "print(\"影片下載完成\")"
   ]
  },
  {
   "cell_type": "code",
   "execution_count": 8,
   "id": "7b08bfb1",
   "metadata": {
    "scrolled": true
   },
   "outputs": [
    {
     "name": "stdout",
     "output_type": "stream",
     "text": [
      "影片名稱：用科技萃取世界的真實 | 胡 耀傑 | TEDxAnping\n",
      "影片格式共有：18 種\n",
      "影片型態為mp4且影像及聲音都有的影片：:\n",
      "[<Stream: itag=\"18\" mime_type=\"video/mp4\" res=\"360p\" fps=\"30fps\" vcodec=\"avc1.42001E\" acodec=\"mp4a.40.2\" progressive=\"True\" type=\"video\">, <Stream: itag=\"22\" mime_type=\"video/mp4\" res=\"720p\" fps=\"30fps\" vcodec=\"avc1.64001F\" acodec=\"mp4a.40.2\" progressive=\"True\" type=\"video\">]\n",
      "開始下載mp4, 360p的影片：\n",
      "下載完成！檔案下載於：d:\\youtube_video資料夾\n"
     ]
    }
   ],
   "source": [
    "print(\"影片名稱：\" + yt.title)\n",
    "print(\"影片格式共有：\" + str(len(yt.streams)) + ' 種')\n",
    "print(\"影片型態為mp4且影像及聲音都有的影片：:\")\n",
    "print(yt.streams.filter(subtype='mp4', progressive=True))\n",
    "print(\"開始下載mp4, 360p的影片：\")\n",
    "path_dir = 'd:\\\\youtube_video'\n",
    "yt.streams.filter(subtype=\"mp4\", res=\"360p\", progressive=True)\n",
    "print(\"下載完成！檔案下載於：\" + path_dir + \"資料夾\")"
   ]
  },
  {
   "cell_type": "code",
   "execution_count": 2,
   "id": "8c2e903d",
   "metadata": {
    "scrolled": true
   },
   "outputs": [
    {
     "name": "stdout",
     "output_type": "stream",
     "text": [
      "[<Stream: itag=\"22\" mime_type=\"video/mp4\" res=\"720p\" fps=\"30fps\" vcodec=\"avc1.64001F\" acodec=\"mp4a.40.2\" progressive=\"True\" type=\"video\">, <Stream: itag=\"136\" mime_type=\"video/mp4\" res=\"720p\" fps=\"30fps\" vcodec=\"avc1.64001f\" progressive=\"False\" type=\"video\">]\n",
      "用科技萃取世界的真實 | 胡 耀傑 | TEDxAnping\n"
     ]
    }
   ],
   "source": [
    "print(yt.streams.filter(subtype='mp4', res='720p'))\n",
    "print(yt.title)"
   ]
  },
  {
   "cell_type": "code",
   "execution_count": null,
   "id": "5b27a9c3",
   "metadata": {},
   "outputs": [],
   "source": []
  }
 ],
 "metadata": {
  "kernelspec": {
   "display_name": "Python 3",
   "language": "python",
   "name": "python3"
  },
  "language_info": {
   "codemirror_mode": {
    "name": "ipython",
    "version": 3
   },
   "file_extension": ".py",
   "mimetype": "text/x-python",
   "name": "python",
   "nbconvert_exporter": "python",
   "pygments_lexer": "ipython3",
   "version": "3.8.10"
  }
 },
 "nbformat": 4,
 "nbformat_minor": 5
}
